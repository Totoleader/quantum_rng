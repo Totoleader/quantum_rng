{
 "cells": [
  {
   "cell_type": "code",
   "execution_count": null,
   "id": "e5b4cd42",
   "metadata": {},
   "outputs": [
    {
     "data": {
      "image/png": "[encoded data removed]",
      "text/plain": [
       "<Figure size 203.885x702.333 with 1 Axes>"
      ]
     },
     "execution_count": 257,
     "metadata": {},
     "output_type": "execute_result"
    }
   ],
   "source": [
    "from qiskit import QuantumCircuit, transpile\n",
    "from qiskit_aer import AerSimulator\n",
    " \n",
    "#create a quantum circuit a 8 bits\n",
    "n = 8\n",
    "qc = QuantumCircuit(n)\n",
    "\n",
    "#apply hadamard gate to randomize each bit\n",
    "for i in range(n):\n",
    "    qc.h(i)\n",
    "\n",
    "#optionnal command to visualise circuit\n",
    "qc.draw(\"mpl\")"
   ]
  },
  {
   "cell_type": "code",
   "execution_count": null,
   "id": "20f761b3",
   "metadata": {},
   "outputs": [],
   "source": [
    "#maps the problem from quantum to digital\n",
    "qc.measure_all()"
   ]
  },
  {
   "cell_type": "code",
   "execution_count": null,
   "id": "2b8a649b",
   "metadata": {},
   "outputs": [],
   "source": [
    "#optimises the code for QPU\n",
    "sim = AerSimulator()\n",
    "qc = transpile(qc, sim)\n"
   ]
  },
  {
   "cell_type": "code",
   "execution_count": null,
   "id": "d07e91f4",
   "metadata": {},
   "outputs": [],
   "source": [
    "#runs the simulation (only once)\n",
    "job = sim.run(qc, shots=1)\n",
    "result = job.result()\n",
    "counts = result.get_counts()"
   ]
  },
  {
   "cell_type": "code",
   "execution_count": null,
   "id": "3fba2176",
   "metadata": {},
   "outputs": [
    {
     "name": "stdout",
     "output_type": "stream",
     "text": [
      "43\n"
     ]
    }
   ],
   "source": [
    "#prints out the output\n",
    "number = int(list(counts.keys())[0], 2)\n",
    "print(number)"
   ]
  }
 ],
 "metadata": {
  "kernelspec": {
   "display_name": ".venv",
   "language": "python",
   "name": "python3"
  },
  "language_info": {
   "codemirror_mode": {
    "name": "ipython",
    "version": 3
   },
   "file_extension": ".py",
   "mimetype": "text/x-python",
   "name": "python",
   "nbconvert_exporter": "python",
   "pygments_lexer": "ipython3",
   "version": "3.13.1"
  }
 },
 "nbformat": 4,
 "nbformat_minor": 5
}
